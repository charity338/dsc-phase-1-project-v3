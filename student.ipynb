{
 "cells": [
  {
   "cell_type": "markdown",
   "metadata": {
    "slideshow": {
     "slide_type": "slide"
    }
   },
   "source": [
    "## Final Project Submission\n",
    "\n",
    "Please fill out:\n",
    "* Student name: Charity Nguru\n",
    "* Student pace:  part time\n",
    "* Scheduled project review date/time: \n",
    "* Instructor name: NOAH KANDIE\n",
    "* Blog post URL:\n"
   ]
  },
  {
   "cell_type": "markdown",
   "metadata": {
    "slideshow": {
     "slide_type": "slide"
    }
   },
   "source": [
    "# AVIATION DATA PROJECT"
   ]
  },
  {
   "cell_type": "markdown",
   "metadata": {
    "slideshow": {
     "slide_type": "slide"
    }
   },
   "source": [
    "Business Overview;\n",
    "Content:\n",
    "Business Problem: The company is evaluating risks in the aviation industry to determine the safest aircraft and operational conditions.\n",
    "Dataset: Aviation accident data from 1962–2023.\n",
    "Goal: Recommend aircraft types and safety measures based on data analysis."
   ]
  },
  {
   "cell_type": "markdown",
   "metadata": {
    "slideshow": {
     "slide_type": "slide"
    }
   },
   "source": [
    "\n",
    "Business Understanding\n",
    "\n",
    "Stakeholder Needs:\n",
    "The aviation division head requires actionable insights to minimize risk when selecting aircraft for operations. Insights must address safety, reliability, and potential hazards associated with specific aircraft types, flight conditions, or operational factors."
   ]
  },
  {
   "cell_type": "markdown",
   "metadata": {
    "slideshow": {
     "slide_type": "slide"
    }
   },
   "source": [
    "Statement of the Problem\n",
    "The company seeks to:\n",
    "\n",
    "i)Identify low-risk aircraft for purchase.\n",
    "ii)Understand trends in aviation accidents and incidents.\n",
    "iii)Develop recommendations based on accident frequency, severity, and contributing factors."
   ]
  },
  {
   "cell_type": "markdown",
   "metadata": {
    "slideshow": {
     "slide_type": "slide"
    }
   },
   "source": [
    "Approach:\n",
    "1. Data Analysis;\n",
    "\n",
    "i)Investigate trends in accident frequency over time.\n",
    "ii)Examine relationships between aircraft specifications and safety records.\n",
    "iii)Assess the impact of external factors (e.g., weather, flight purpose) on safety outcomes.\n",
    "\n",
    "outcome ...\n",
    "Content:\n",
    ". Weather conditions strongly correlate with higher fatalities, especially adverse conditions like storms or fog.\n",
    ". The landing and takeoff phases have the most accidents.\n",
    ". A general decline in fatalities is observed after the year 2000, potentially due to better technology and regulations"
   ]
  },
  {
   "cell_type": "markdown",
   "metadata": {
    "slideshow": {
     "slide_type": "slide"
    }
   },
   "source": [
    "\n",
    "2. Data Cleaning\n",
    "\n",
    ". Removed irrelevant columns (e.g., redundant identifiers, report status).\n",
    ". Addressed missing values by imputing or replacing them with median values or 'Unknown'.\n",
    ". Extracted key insights from cleaned data."
   ]
  },
  {
   "cell_type": "markdown",
   "metadata": {
    "slideshow": {
     "slide_type": "slide"
    }
   },
   "source": [
    "3. Visualization\n",
    "\n",
    "Use visual storytelling (e.g., bar charts, heatmaps) to highlight findings.\n",
    "\n",
    "Include the four charts:\n",
    "Fatalities by Weather Condition (Bar Chart)\n",
    "Fatalities by Phase of Flight (Bar Chart)\n",
    "Fatalities Over weather conditions(bar chart)\n",
    "Injury Severity Distribution (Pie Chart)"
   ]
  },
  {
   "cell_type": "markdown",
   "metadata": {
    "slideshow": {
     "slide_type": "slide"
    }
   },
   "source": [
    "4. Recommendations\n",
    ". Purchase aircraft models with low fatality and injury records.\n",
    ". Invest in aircraft with advanced weather-handling technology.\n",
    ". Enhance safety protocols during takeoff and landing."
   ]
  },
  {
   "cell_type": "markdown",
   "metadata": {
    "slideshow": {
     "slide_type": "slide"
    }
   },
   "source": [
    "5. Next Steps\n",
    ". Conduct a deeper dive into manufacturer reliability and maintenance logs.\n",
    ". Incorporate external datasets for a comprehensive risk analysis.\n",
    ". Use predictive modeling to forecast risk levels."
   ]
  },
  {
   "cell_type": "markdown",
   "metadata": {
    "slideshow": {
     "slide_type": "slide"
    }
   },
   "source": [
    "6. Thank You\n",
    "Content:\n",
    "Thank you for your time.\n",
    "feel free to ask any questions.\n",
    "Share your contact details: Name: Murugi Nguru | LinkedIn: [Your LinkedIn Profile]"
   ]
  },
  {
   "cell_type": "code",
   "execution_count": 2,
   "metadata": {
    "slideshow": {
     "slide_type": "-"
    }
   },
   "outputs": [],
   "source": [
    "#1. Inspect the Dataset\n",
    "import pandas as pd\n",
    "import numpy as np\n",
    "import matplotlib.pyplot as plt\n",
    "import seaborn as sns\n"
   ]
  },
  {
   "cell_type": "code",
   "execution_count": 3,
   "metadata": {},
   "outputs": [
    {
     "name": "stderr",
     "output_type": "stream",
     "text": [
      "C:\\Users\\Murugi\\Anaconda3\\envs\\learn-env\\lib\\site-packages\\IPython\\core\\interactiveshell.py:3145: DtypeWarning: Columns (6,7,28) have mixed types.Specify dtype option on import or set low_memory=False.\n",
      "  has_raised = await self.run_ast_nodes(code_ast.body, cell_name,\n"
     ]
    }
   ],
   "source": [
    "aviation_data = pd.read_csv('data/Aviation_Data.csv')\n",
    "\n"
   ]
  },
  {
   "cell_type": "code",
   "execution_count": 58,
   "metadata": {
    "slideshow": {
     "slide_type": "slide"
    }
   },
   "outputs": [
    {
     "name": "stdout",
     "output_type": "stream",
     "text": [
      "<class 'pandas.core.frame.DataFrame'>\n",
      "RangeIndex: 90348 entries, 0 to 90347\n",
      "Data columns (total 31 columns):\n",
      " #   Column                  Non-Null Count  Dtype  \n",
      "---  ------                  --------------  -----  \n",
      " 0   Event.Id                88889 non-null  object \n",
      " 1   Investigation.Type      90348 non-null  object \n",
      " 2   Accident.Number         88889 non-null  object \n",
      " 3   Event.Date              88889 non-null  object \n",
      " 4   Location                88837 non-null  object \n",
      " 5   Country                 88663 non-null  object \n",
      " 6   Latitude                34382 non-null  object \n",
      " 7   Longitude               34373 non-null  object \n",
      " 8   Airport.Code            50249 non-null  object \n",
      " 9   Airport.Name            52790 non-null  object \n",
      " 10  Injury.Severity         87889 non-null  object \n",
      " 11  Aircraft.damage         85695 non-null  object \n",
      " 12  Aircraft.Category       32287 non-null  object \n",
      " 13  Registration.Number     87572 non-null  object \n",
      " 14  Make                    88826 non-null  object \n",
      " 15  Model                   88797 non-null  object \n",
      " 16  Amateur.Built           88787 non-null  object \n",
      " 17  Number.of.Engines       82805 non-null  float64\n",
      " 18  Engine.Type             81812 non-null  object \n",
      " 19  FAR.Description         32023 non-null  object \n",
      " 20  Schedule                12582 non-null  object \n",
      " 21  Purpose.of.flight       82697 non-null  object \n",
      " 22  Air.carrier             16648 non-null  object \n",
      " 23  Total.Fatal.Injuries    77488 non-null  float64\n",
      " 24  Total.Serious.Injuries  76379 non-null  float64\n",
      " 25  Total.Minor.Injuries    76956 non-null  float64\n",
      " 26  Total.Uninjured         82977 non-null  float64\n",
      " 27  Weather.Condition       84397 non-null  object \n",
      " 28  Broad.phase.of.flight   61724 non-null  object \n",
      " 29  Report.Status           82508 non-null  object \n",
      " 30  Publication.Date        73659 non-null  object \n",
      "dtypes: float64(5), object(26)\n",
      "memory usage: 21.4+ MB\n",
      "None\n"
     ]
    }
   ],
   "source": [
    "# Display basic info and first rows\n",
    "print(aviation_data.info())"
   ]
  },
  {
   "cell_type": "code",
   "execution_count": 4,
   "metadata": {},
   "outputs": [
    {
     "name": "stdout",
     "output_type": "stream",
     "text": [
      "         Event.Id Investigation.Type Accident.Number  Event.Date  \\\n",
      "0  20001218X45444           Accident      SEA87LA080  1948-10-24   \n",
      "1  20001218X45447           Accident      LAX94LA336  1962-07-19   \n",
      "2  20061025X01555           Accident      NYC07LA005  1974-08-30   \n",
      "3  20001218X45448           Accident      LAX96LA321  1977-06-19   \n",
      "4  20041105X01764           Accident      CHI79FA064  1979-08-02   \n",
      "\n",
      "          Location        Country Latitude Longitude Airport.Code  \\\n",
      "0  MOOSE CREEK, ID  United States      NaN       NaN          NaN   \n",
      "1   BRIDGEPORT, CA  United States      NaN       NaN          NaN   \n",
      "2    Saltville, VA  United States  36.9222  -81.8781          NaN   \n",
      "3       EUREKA, CA  United States      NaN       NaN          NaN   \n",
      "4       Canton, OH  United States      NaN       NaN          NaN   \n",
      "\n",
      "  Airport.Name  ... Purpose.of.flight Air.carrier Total.Fatal.Injuries  \\\n",
      "0          NaN  ...          Personal         NaN                  2.0   \n",
      "1          NaN  ...          Personal         NaN                  4.0   \n",
      "2          NaN  ...          Personal         NaN                  3.0   \n",
      "3          NaN  ...          Personal         NaN                  2.0   \n",
      "4          NaN  ...          Personal         NaN                  1.0   \n",
      "\n",
      "  Total.Serious.Injuries Total.Minor.Injuries Total.Uninjured  \\\n",
      "0                    0.0                  0.0             0.0   \n",
      "1                    0.0                  0.0             0.0   \n",
      "2                    NaN                  NaN             NaN   \n",
      "3                    0.0                  0.0             0.0   \n",
      "4                    2.0                  NaN             0.0   \n",
      "\n",
      "  Weather.Condition  Broad.phase.of.flight   Report.Status Publication.Date  \n",
      "0               UNK                 Cruise  Probable Cause              NaN  \n",
      "1               UNK                Unknown  Probable Cause       19-09-1996  \n",
      "2               IMC                 Cruise  Probable Cause       26-02-2007  \n",
      "3               IMC                 Cruise  Probable Cause       12-09-2000  \n",
      "4               VMC               Approach  Probable Cause       16-04-1980  \n",
      "\n",
      "[5 rows x 31 columns]\n"
     ]
    }
   ],
   "source": [
    "print(aviation_data.head())"
   ]
  },
  {
   "cell_type": "code",
   "execution_count": 5,
   "metadata": {},
   "outputs": [
    {
     "name": "stdout",
     "output_type": "stream",
     "text": [
      "       Number.of.Engines  Total.Fatal.Injuries  Total.Serious.Injuries  \\\n",
      "count       82805.000000          77488.000000            76379.000000   \n",
      "mean            1.146585              0.647855                0.279881   \n",
      "std             0.446510              5.485960                1.544084   \n",
      "min             0.000000              0.000000                0.000000   \n",
      "25%             1.000000              0.000000                0.000000   \n",
      "50%             1.000000              0.000000                0.000000   \n",
      "75%             1.000000              0.000000                0.000000   \n",
      "max             8.000000            349.000000              161.000000   \n",
      "\n",
      "       Total.Minor.Injuries  Total.Uninjured  \n",
      "count          76956.000000     82977.000000  \n",
      "mean               0.357061         5.325440  \n",
      "std                2.235625        27.913634  \n",
      "min                0.000000         0.000000  \n",
      "25%                0.000000         0.000000  \n",
      "50%                0.000000         1.000000  \n",
      "75%                0.000000         2.000000  \n",
      "max              380.000000       699.000000  \n"
     ]
    }
   ],
   "source": [
    "print(aviation_data.describe())\n"
   ]
  },
  {
   "cell_type": "markdown",
   "metadata": {},
   "source": [
    "2. Handle Missing Values\n",
    "Inspect missing values:"
   ]
  },
  {
   "cell_type": "code",
   "execution_count": 6,
   "metadata": {},
   "outputs": [
    {
     "name": "stdout",
     "output_type": "stream",
     "text": [
      "Schedule                  86.073848\n",
      "Air.carrier               81.573471\n",
      "FAR.Description           64.555939\n",
      "Aircraft.Category         64.263736\n",
      "Longitude                 61.954886\n",
      "Latitude                  61.944924\n",
      "Airport.Code              44.382831\n",
      "Airport.Name              41.570372\n",
      "Broad.phase.of.flight     31.681941\n",
      "Publication.Date          18.471909\n",
      "Total.Serious.Injuries    15.461327\n",
      "Total.Minor.Injuries      14.822686\n",
      "Total.Fatal.Injuries      14.233851\n",
      "Engine.Type                9.447913\n",
      "Report.Status              8.677558\n",
      "Purpose.of.flight          8.468367\n",
      "Number.of.Engines          8.348829\n",
      "Total.Uninjured            8.158454\n",
      "Weather.Condition          6.586753\n",
      "Aircraft.damage            5.150086\n",
      "Registration.Number        3.072564\n",
      "Injury.Severity            2.721698\n",
      "Country                    1.865011\n",
      "Amateur.Built              1.727764\n",
      "Model                      1.716695\n",
      "Make                       1.684597\n",
      "Location                   1.672422\n",
      "Event.Date                 1.614867\n",
      "Accident.Number            1.614867\n",
      "Event.Id                   1.614867\n",
      "Investigation.Type         0.000000\n",
      "dtype: float64\n"
     ]
    }
   ],
   "source": [
    "# Percentage of missing values\n",
    "missing_values = (aviation_data.isnull().sum() / len(aviation_data)) * 100\n",
    "print(missing_values.sort_values(ascending=False))\n"
   ]
  },
  {
   "cell_type": "markdown",
   "metadata": {},
   "source": [
    "drop columns with >40% missing data;"
   ]
  },
  {
   "cell_type": "code",
   "execution_count": 7,
   "metadata": {
    "slideshow": {
     "slide_type": "slide"
    }
   },
   "outputs": [
    {
     "name": "stdout",
     "output_type": "stream",
     "text": [
      "Index(['Event.Id', 'Investigation.Type', 'Accident.Number', 'Event.Date',\n",
      "       'Location', 'Country', 'Latitude', 'Longitude', 'Airport.Code',\n",
      "       'Airport.Name', 'Injury.Severity', 'Aircraft.damage',\n",
      "       'Aircraft.Category', 'Registration.Number', 'Make', 'Model',\n",
      "       'Amateur.Built', 'Number.of.Engines', 'Engine.Type', 'FAR.Description',\n",
      "       'Schedule', 'Purpose.of.flight', 'Air.carrier', 'Total.Fatal.Injuries',\n",
      "       'Total.Serious.Injuries', 'Total.Minor.Injuries', 'Total.Uninjured',\n",
      "       'Weather.Condition', 'Broad.phase.of.flight', 'Report.Status',\n",
      "       'Publication.Date'],\n",
      "      dtype='object')\n"
     ]
    }
   ],
   "source": [
    "print(aviation_data.columns)\n"
   ]
  },
  {
   "cell_type": "code",
   "execution_count": 8,
   "metadata": {
    "scrolled": true
   },
   "outputs": [],
   "source": [
    "\n",
    "aviation_data.columns = aviation_data.columns.str.strip()\n"
   ]
  },
  {
   "cell_type": "code",
   "execution_count": 9,
   "metadata": {},
   "outputs": [],
   "source": [
    "columns_to_drop = [\n",
    "    'Event.Id', 'Accident.Number', 'Registration.Number', \n",
    "    'Report.Status', 'Publication.Date'\n",
    "]\n",
    "\n",
    "# Only drop columns that exist in the dataset\n",
    "aviation_data = aviation_data.drop(\n",
    "    columns=[col for col in columns_to_drop if col in aviation_data.columns],\n",
    "    axis=1\n",
    ")\n"
   ]
  },
  {
   "cell_type": "code",
   "execution_count": 10,
   "metadata": {},
   "outputs": [
    {
     "name": "stdout",
     "output_type": "stream",
     "text": [
      "  Investigation.Type  Event.Date         Location        Country Latitude  \\\n",
      "0           Accident  1948-10-24  MOOSE CREEK, ID  United States      NaN   \n",
      "1           Accident  1962-07-19   BRIDGEPORT, CA  United States      NaN   \n",
      "2           Accident  1974-08-30    Saltville, VA  United States  36.9222   \n",
      "3           Accident  1977-06-19       EUREKA, CA  United States      NaN   \n",
      "4           Accident  1979-08-02       Canton, OH  United States      NaN   \n",
      "\n",
      "  Longitude Airport.Code Airport.Name Injury.Severity Aircraft.damage  ...  \\\n",
      "0       NaN          NaN          NaN        Fatal(2)       Destroyed  ...   \n",
      "1       NaN          NaN          NaN        Fatal(4)       Destroyed  ...   \n",
      "2  -81.8781          NaN          NaN        Fatal(3)       Destroyed  ...   \n",
      "3       NaN          NaN          NaN        Fatal(2)       Destroyed  ...   \n",
      "4       NaN          NaN          NaN        Fatal(1)       Destroyed  ...   \n",
      "\n",
      "  FAR.Description Schedule Purpose.of.flight Air.carrier  \\\n",
      "0             NaN      NaN          Personal         NaN   \n",
      "1             NaN      NaN          Personal         NaN   \n",
      "2             NaN      NaN          Personal         NaN   \n",
      "3             NaN      NaN          Personal         NaN   \n",
      "4             NaN      NaN          Personal         NaN   \n",
      "\n",
      "   Total.Fatal.Injuries Total.Serious.Injuries Total.Minor.Injuries  \\\n",
      "0                   2.0                    0.0                  0.0   \n",
      "1                   4.0                    0.0                  0.0   \n",
      "2                   3.0                    NaN                  NaN   \n",
      "3                   2.0                    0.0                  0.0   \n",
      "4                   1.0                    2.0                  NaN   \n",
      "\n",
      "  Total.Uninjured Weather.Condition Broad.phase.of.flight  \n",
      "0             0.0               UNK                Cruise  \n",
      "1             0.0               UNK               Unknown  \n",
      "2             NaN               IMC                Cruise  \n",
      "3             0.0               IMC                Cruise  \n",
      "4             0.0               VMC              Approach  \n",
      "\n",
      "[5 rows x 26 columns]\n"
     ]
    }
   ],
   "source": [
    "print(aviation_data.head())\n"
   ]
  },
  {
   "cell_type": "code",
   "execution_count": null,
   "metadata": {
    "scrolled": true
   },
   "outputs": [],
   "source": [
    "\n"
   ]
  },
  {
   "cell_type": "code",
   "execution_count": 11,
   "metadata": {},
   "outputs": [],
   "source": [
    "# Fill numeric columns with median\n",
    "aviation_data['Total.Fatal.Injuries'] = aviation_data['Total.Fatal.Injuries'].fillna(aviation_data['Total.Fatal.Injuries'].median())\n",
    "aviation_data['Total.Serious.Injuries'] = aviation_data['Total.Serious.Injuries'].fillna(aviation_data['Total.Serious.Injuries'].median())\n",
    "\n",
    "# Fill categorical columns with 'Unknown'\n",
    "aviation_data['Weather.Condition'] = aviation_data['Weather.Condition'].fillna('Unknown')\n",
    "aviation_data['Broad.phase.of.flight'] = aviation_data['Broad.phase.of.flight'].fillna('Unknown')\n"
   ]
  },
  {
   "cell_type": "code",
   "execution_count": 12,
   "metadata": {},
   "outputs": [
    {
     "name": "stdout",
     "output_type": "stream",
     "text": [
      "Investigation.Type            0\n",
      "Event.Date                 1459\n",
      "Location                   1511\n",
      "Country                    1685\n",
      "Latitude                  55966\n",
      "Longitude                 55975\n",
      "Airport.Code              40099\n",
      "Airport.Name              37558\n",
      "Injury.Severity            2459\n",
      "Aircraft.damage            4653\n",
      "Aircraft.Category         58061\n",
      "Make                       1522\n",
      "Model                      1551\n",
      "Amateur.Built              1561\n",
      "Number.of.Engines          7543\n",
      "Engine.Type                8536\n",
      "FAR.Description           58325\n",
      "Schedule                  77766\n",
      "Purpose.of.flight          7651\n",
      "Air.carrier               73700\n",
      "Total.Fatal.Injuries          0\n",
      "Total.Serious.Injuries        0\n",
      "Total.Minor.Injuries      13392\n",
      "Total.Uninjured            7371\n",
      "Weather.Condition             0\n",
      "Broad.phase.of.flight         0\n",
      "dtype: int64\n"
     ]
    }
   ],
   "source": [
    "print(aviation_data.isnull().sum())\n"
   ]
  },
  {
   "cell_type": "code",
   "execution_count": 13,
   "metadata": {},
   "outputs": [],
   "source": [
    "aviation_data = aviation_data.drop(columns=['Number.of.Engines', 'Engine.Type', 'Purpose.of.flight'])\n"
   ]
  },
  {
   "cell_type": "code",
   "execution_count": 14,
   "metadata": {},
   "outputs": [],
   "source": [
    "# Fill categorical columns with the mode (most frequent value)\n",
    "aviation_data['Location'] = aviation_data['Location'].fillna(aviation_data['Location'].mode()[0])\n",
    "aviation_data['Country'] = aviation_data['Country'].fillna(aviation_data['Country'].mode()[0])\n",
    "aviation_data['Injury.Severity'] = aviation_data['Injury.Severity'].fillna(aviation_data['Injury.Severity'].mode()[0])\n",
    "aviation_data['Aircraft.damage'] = aviation_data['Aircraft.damage'].fillna(aviation_data['Aircraft.damage'].mode()[0])\n",
    "aviation_data['Make'] = aviation_data['Make'].fillna(aviation_data['Make'].mode()[0])\n",
    "aviation_data['Model'] = aviation_data['Model'].fillna(aviation_data['Model'].mode()[0])\n",
    "aviation_data['Amateur.Built'] = aviation_data['Amateur.Built'].fillna(aviation_data['Amateur.Built'].mode()[0])\n",
    "\n",
    "# Fill numeric columns with the median\n",
    "aviation_data['Total.Minor.Injuries'] = aviation_data['Total.Minor.Injuries'].fillna(aviation_data['Total.Minor.Injuries'].median())\n",
    "aviation_data['Total.Uninjured'] = aviation_data['Total.Uninjured'].fillna(aviation_data['Total.Uninjured'].median())\n"
   ]
  },
  {
   "cell_type": "code",
   "execution_count": 15,
   "metadata": {},
   "outputs": [
    {
     "name": "stdout",
     "output_type": "stream",
     "text": [
      "Investigation.Type            0\n",
      "Event.Date                 1459\n",
      "Location                      0\n",
      "Country                       0\n",
      "Latitude                  55966\n",
      "Longitude                 55975\n",
      "Airport.Code              40099\n",
      "Airport.Name              37558\n",
      "Injury.Severity               0\n",
      "Aircraft.damage               0\n",
      "Aircraft.Category         58061\n",
      "Make                          0\n",
      "Model                         0\n",
      "Amateur.Built                 0\n",
      "FAR.Description           58325\n",
      "Schedule                  77766\n",
      "Air.carrier               73700\n",
      "Total.Fatal.Injuries          0\n",
      "Total.Serious.Injuries        0\n",
      "Total.Minor.Injuries          0\n",
      "Total.Uninjured               0\n",
      "Weather.Condition             0\n",
      "Broad.phase.of.flight         0\n",
      "dtype: int64\n"
     ]
    }
   ],
   "source": [
    "print(aviation_data.isnull().sum())\n"
   ]
  },
  {
   "cell_type": "code",
   "execution_count": 16,
   "metadata": {},
   "outputs": [],
   "source": [
    "aviation_data = aviation_data.dropna(subset=['Event.Date'])\n"
   ]
  },
  {
   "cell_type": "markdown",
   "metadata": {},
   "source": [
    "Step 3: Verify Cleaned Data"
   ]
  },
  {
   "cell_type": "code",
   "execution_count": 17,
   "metadata": {},
   "outputs": [
    {
     "name": "stdout",
     "output_type": "stream",
     "text": [
      "Investigation.Type            0\n",
      "Event.Date                    0\n",
      "Location                      0\n",
      "Country                       0\n",
      "Latitude                  54507\n",
      "Longitude                 54516\n",
      "Airport.Code              38640\n",
      "Airport.Name              36099\n",
      "Injury.Severity               0\n",
      "Aircraft.damage               0\n",
      "Aircraft.Category         56602\n",
      "Make                          0\n",
      "Model                         0\n",
      "Amateur.Built                 0\n",
      "FAR.Description           56866\n",
      "Schedule                  76307\n",
      "Air.carrier               72241\n",
      "Total.Fatal.Injuries          0\n",
      "Total.Serious.Injuries        0\n",
      "Total.Minor.Injuries          0\n",
      "Total.Uninjured               0\n",
      "Weather.Condition             0\n",
      "Broad.phase.of.flight         0\n",
      "dtype: int64\n"
     ]
    }
   ],
   "source": [
    "\n",
    "print(aviation_data.isnull().sum())\n"
   ]
  },
  {
   "cell_type": "markdown",
   "metadata": {
    "slideshow": {
     "slide_type": "slide"
    }
   },
   "source": [
    "1. Fatalities by Weather Condition\n",
    "Objective: Show how fatalities vary under different weather conditions.\n",
    "Visualization Type: Bar Chart"
   ]
  },
  {
   "cell_type": "code",
   "execution_count": 18,
   "metadata": {
    "slideshow": {
     "slide_type": "slide"
    }
   },
   "outputs": [
    {
     "data": {
      "image/png": "[encoded data removed]",
      "text/plain": [
       "<Figure size 576x360 with 1 Axes>"
      ]
     },
     "metadata": {
      "needs_background": "light"
     },
     "output_type": "display_data"
    }
   ],
   "source": [
    "fatalities_weather = aviation_data.groupby('Weather.Condition')['Total.Fatal.Injuries'].sum()\n",
    "fatalities_weather.plot(kind='bar', color='skyblue', title='Fatalities by Weather Condition', xlabel='Weather Condition', ylabel='Total Fatalities', figsize=(8, 5))\n",
    "plt.xticks(rotation=45)\n",
    "plt.show()\n"
   ]
  },
  {
   "cell_type": "markdown",
   "metadata": {
    "slideshow": {
     "slide_type": "slide"
    }
   },
   "source": [
    "2. Fatalities by Phase of Flight\n",
    "Objective: Identify which flight phases are the riskiest.\n",
    "Visualization Type: Bar Chart"
   ]
  },
  {
   "cell_type": "code",
   "execution_count": 19,
   "metadata": {
    "slideshow": {
     "slide_type": "slide"
    }
   },
   "outputs": [
    {
     "data": {
      "image/png": "[encoded data removed]",
      "text/plain": [
       "<Figure size 576x360 with 1 Axes>"
      ]
     },
     "metadata": {
      "needs_background": "light"
     },
     "output_type": "display_data"
    }
   ],
   "source": [
    "fatalities_phase = aviation_data.groupby('Broad.phase.of.flight')['Total.Fatal.Injuries'].sum()\n",
    "fatalities_phase.plot(kind='bar', color='orange', title='Fatalities by Flight Phase', xlabel='Flight Phase', ylabel='Total Fatalities', figsize=(8, 5))\n",
    "plt.xticks(rotation=45)\n",
    "plt.show()\n"
   ]
  },
  {
   "cell_type": "code",
   "execution_count": 79,
   "metadata": {},
   "outputs": [
    {
     "name": "stdout",
     "output_type": "stream",
     "text": [
      "Index(['Investigation.Type', 'Event.Date', 'Location', 'Country', 'Latitude',\n",
      "       'Longitude', 'Airport.Code', 'Airport.Name', 'Injury.Severity',\n",
      "       'Aircraft.damage', 'Aircraft.Category', 'Make', 'Model',\n",
      "       'Amateur.Built', 'FAR.Description', 'Schedule', 'Air.carrier',\n",
      "       'Total.Fatal.Injuries', 'Total.Serious.Injuries',\n",
      "       'Total.Minor.Injuries', 'Total.Uninjured', 'Weather.Condition',\n",
      "       'Broad.phase.of.flight', 'Year'],\n",
      "      dtype='object')\n"
     ]
    }
   ],
   "source": [
    "print(aviation_data.columns)\n"
   ]
  },
  {
   "cell_type": "code",
   "execution_count": null,
   "metadata": {
    "slideshow": {
     "slide_type": "slide"
    }
   },
   "outputs": [],
   "source": []
  },
  {
   "cell_type": "markdown",
   "metadata": {
    "slideshow": {
     "slide_type": "slide"
    }
   },
   "source": [
    "4. Injury Severity Distribution\n",
    "Objective: Highlight the distribution of injury severity across all accidents.\n",
    "Visualization Type: Pie Chart"
   ]
  },
  {
   "cell_type": "code",
   "execution_count": 22,
   "metadata": {
    "slideshow": {
     "slide_type": "slide"
    }
   },
   "outputs": [
    {
     "data": {
      "image/png": "[encoded data removed]",
      "text/plain": [
       "<Figure size 576x576 with 1 Axes>"
      ]
     },
     "metadata": {},
     "output_type": "display_data"
    }
   ],
   "source": [
    "injury_severity = aviation_data['Injury.Severity'].value_counts()\n",
    "injury_severity.plot(kind='pie', autopct='%1.1f%%', colors=['lightblue', 'lightgreen', 'salmon'], title='Injury Severity Distribution', figsize=(8, 8))\n",
    "plt.ylabel('')\n",
    "plt.show()\n"
   ]
  },
  {
   "cell_type": "code",
   "execution_count": 80,
   "metadata": {
    "slideshow": {
     "slide_type": "slide"
    }
   },
   "outputs": [
    {
     "data": {
      "text/plain": [
       "<AxesSubplot:title={'center':'Fatalities by Weather Condition'}, xlabel='Weather Condition', ylabel='Total Fatalities'>"
      ]
     },
     "execution_count": 80,
     "metadata": {},
     "output_type": "execute_result"
    },
    {
     "data": {
      "image/png": "[encoded data removed]",
      "text/plain": [
       "<Figure size 432x288 with 1 Axes>"
      ]
     },
     "metadata": {
      "needs_background": "light"
     },
     "output_type": "display_data"
    }
   ],
   "source": [
    "fatality_analysis = aviation_data.groupby('Weather.Condition')['Total.Fatal.Injuries'].sum()\n",
    "fatality_analysis.plot(kind='bar', title='Fatalities by Weather Condition', xlabel='Weather Condition', ylabel='Total Fatalities')\n"
   ]
  },
  {
   "cell_type": "markdown",
   "metadata": {},
   "source": [
    " use Broad.phase.of.flight to analyze fatalities during different phases of flight:"
   ]
  },
  {
   "cell_type": "code",
   "execution_count": 81,
   "metadata": {},
   "outputs": [
    {
     "data": {
      "text/plain": [
       "<AxesSubplot:title={'center':'Fatalities by Flight Phase'}, xlabel='Phase of Flight', ylabel='Total Fatalities'>"
      ]
     },
     "execution_count": 81,
     "metadata": {},
     "output_type": "execute_result"
    },
    {
     "data": {
      "image/png": "[encoded data removed]",
      "text/plain": [
       "<Figure size 432x288 with 1 Axes>"
      ]
     },
     "metadata": {
      "needs_background": "light"
     },
     "output_type": "display_data"
    }
   ],
   "source": [
    "fatality_analysis = aviation_data.groupby('Broad.phase.of.flight')['Total.Fatal.Injuries'].sum()\n",
    "fatality_analysis.plot(kind='bar', title='Fatalities by Flight Phase', xlabel='Phase of Flight', ylabel='Total Fatalities')\n"
   ]
  },
  {
   "cell_type": "code",
   "execution_count": null,
   "metadata": {},
   "outputs": [],
   "source": []
  }
 ],
 "metadata": {
  "celltoolbar": "Slideshow",
  "kernelspec": {
   "display_name": "Python 3",
   "language": "python",
   "name": "python3"
  },
  "language_info": {
   "codemirror_mode": {
    "name": "ipython",
    "version": 3
   },
   "file_extension": ".py",
   "mimetype": "text/x-python",
   "name": "python",
   "nbconvert_exporter": "python",
   "pygments_lexer": "ipython3",
   "version": "3.8.5"
  }
 },
 "nbformat": 4,
 "nbformat_minor": 2
}

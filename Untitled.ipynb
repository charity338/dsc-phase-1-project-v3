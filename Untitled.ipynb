{
 "cells": [
  {
   "cell_type": "markdown",
   "metadata": {},
   "source": [
    "Aviation Data Set\n",
    "\n",
    "Business Understanding\n",
    "Overview:\n",
    "Exploring what the business expects to gain from the project.Using the data in this project ,we will be able to identify the various potential risks in aviation industry.By identifying the various risks involved, such as financial risks,operational risks,safety and security risks,market and competitive risks among other riks that are associated to aviation.\n",
    "With the data(Civil Aviation Accidents) we will focus more on safety and security risks, where we will anarlize the number of accidents that occured and whhich routes they were using.This will help us identify the safest route to use which will have lower risks.\n",
    "\n",
    "BUSINESS OBJECTIVES\n",
    ". To gain profits and financial stability\n",
    ". Offer quality services to customers for customer satisfaction\n",
    ". expand our market and staying competitive by adapting the market trends\n",
    ". ensuring passenger and crew safety and security(main issue)\n",
    "\n",
    "BUSINESS CRITERIA\n",
    ". To meet market demand\n",
    ". financial stability\n",
    ". regulatory compliance\n",
    ". operational efficiency\n",
    "\n",
    "STATEMENT OF THE PROBLEM \n",
    "Our company plans to invest in the aviation industry by developing our own airstrip. To ensure safety and security, a critical component of this project will involve analyzing aviation accident data to identify patterns and key risk factors, such as routes or environmental conditions associated with higher accident probabilities. By leveraging these insights, we aim to make data-driven decisions to design safer operational procedures, select optimal routes, and implement strategies that mitigate safety risks effectively.\n",
    "\n",
    "1. Business Questions\n",
    "Below are some of the business questions our project aims to address:\n",
    "\n",
    "a)Safety and Security Risks:\n",
    "What are the most significant factors contributing to aviation accidents in our target region?\n",
    "Which routes, environmental conditions, or operational practices has the highest safety risks?\n",
    "b)Operational Planning:\n",
    "How can we optimize route planning to minimize accident risk while maintaining operational efficiency?\n",
    "What are the critical infrastructure or design requirements to enhance airstrip safety?\n",
    "c)Risk Mitigation:\n",
    "What strategies or technologies can be implemented to reduce accident risks?\n",
    "How can we monitor and predict potential safety risks in real-time?\n",
    "d)Financial Viability:\n",
    "What are the potential cost implications of implementing robust safety measures, and how do they compare to the costs of accidents or liabilities?\n",
    "\n",
    "2. Any other business requirements\n",
    "a) Access to historical aviation accident data (e.g., frequency, location, and causes of accidents).\n",
    "b) Environmental and weather data for the proposed airstrip location.\n",
    "c) Data on airstrip design, traffic volume, and regional aviation regulations.\n",
    "\n",
    "3. expected benefits \n",
    "a) Operational efficiency\n",
    "b) Excellent reputation of the airstrip\n",
    "c) Enhanced safety\n",
    "d) financial savings as a result of reduced cost incurred from accidents\n",
    "\n",
    "BUSINESS CRITERIA\n",
    "1. Safety and Security Performance\n",
    "-Accident Rate Reduction:\n",
    "Success will be measured by achieving a significant reduction in the projected accident rates compared to industry averages in similar conditions.\n",
    "-Implementation of Risk Mitigation Strategies:\n",
    "Effective implementation of safety protocols, technologies, and operational practices designed to mitigate risks.\n",
    "-Compliance with Safety Standards:\n",
    "Full adherence to local and international aviation safety regulations.\n",
    "2. Financial stability\n",
    "Cost Efficiency:\n",
    "The project remains within the allocated budget, including the costs of safety measures, infrastructure, and operational processes.\n",
    "Revenue Targets:\n",
    "Achieving projected revenue from airstrip operations within the first year of launch.\n",
    "3. Customer and Stakeholder Satisfaction\n",
    "Airline and Passenger Confidence:\n",
    "Positive feedback from airlines, passengers, and other stakeholders regarding safety and reliability.\n",
    "Partnership Development:\n",
    "Establishing strong relationships with local governments, airlines, and aviation authorities.\n",
    "\n",
    "What sort of data  are available for the project.\n",
    "Do we have the necessary resources to complete the project.\n",
    "What are the risks involved?\n",
    "Do we have a contingency plan for each risk\n",
    "\n",
    "\n",
    "\n",
    "\n",
    "\n"
   ]
  },
  {
   "cell_type": "code",
   "execution_count": 2,
   "metadata": {},
   "outputs": [],
   "source": [
    "#1. Inspect the Dataset\n",
    "import pandas as pd\n",
    "import numpy as np\n",
    "import matplotlib.pyplot as plt\n",
    "import seaborn as sns"
   ]
  },
  {
   "cell_type": "code",
   "execution_count": 3,
   "metadata": {},
   "outputs": [
    {
     "name": "stderr",
     "output_type": "stream",
     "text": [
      "C:\\Users\\Murugi\\Anaconda3\\envs\\learn-env\\lib\\site-packages\\IPython\\core\\interactiveshell.py:3145: DtypeWarning: Columns (6,7,28) have mixed types.Specify dtype option on import or set low_memory=False.\n",
      "  has_raised = await self.run_ast_nodes(code_ast.body, cell_name,\n"
     ]
    },
    {
     "name": "stdout",
     "output_type": "stream",
     "text": [
      "         Event.Id Investigation.Type Accident.Number  Event.Date  \\\n",
      "0  20001218X45444           Accident      SEA87LA080  1948-10-24   \n",
      "1  20001218X45447           Accident      LAX94LA336  1962-07-19   \n",
      "2  20061025X01555           Accident      NYC07LA005  1974-08-30   \n",
      "3  20001218X45448           Accident      LAX96LA321  1977-06-19   \n",
      "4  20041105X01764           Accident      CHI79FA064  1979-08-02   \n",
      "\n",
      "          Location        Country Latitude Longitude Airport.Code  \\\n",
      "0  MOOSE CREEK, ID  United States      NaN       NaN          NaN   \n",
      "1   BRIDGEPORT, CA  United States      NaN       NaN          NaN   \n",
      "2    Saltville, VA  United States  36.9222  -81.8781          NaN   \n",
      "3       EUREKA, CA  United States      NaN       NaN          NaN   \n",
      "4       Canton, OH  United States      NaN       NaN          NaN   \n",
      "\n",
      "  Airport.Name  ... Purpose.of.flight Air.carrier Total.Fatal.Injuries  \\\n",
      "0          NaN  ...          Personal         NaN                  2.0   \n",
      "1          NaN  ...          Personal         NaN                  4.0   \n",
      "2          NaN  ...          Personal         NaN                  3.0   \n",
      "3          NaN  ...          Personal         NaN                  2.0   \n",
      "4          NaN  ...          Personal         NaN                  1.0   \n",
      "\n",
      "  Total.Serious.Injuries Total.Minor.Injuries Total.Uninjured  \\\n",
      "0                    0.0                  0.0             0.0   \n",
      "1                    0.0                  0.0             0.0   \n",
      "2                    NaN                  NaN             NaN   \n",
      "3                    0.0                  0.0             0.0   \n",
      "4                    2.0                  NaN             0.0   \n",
      "\n",
      "  Weather.Condition  Broad.phase.of.flight   Report.Status Publication.Date  \n",
      "0               UNK                 Cruise  Probable Cause              NaN  \n",
      "1               UNK                Unknown  Probable Cause       19-09-1996  \n",
      "2               IMC                 Cruise  Probable Cause       26-02-2007  \n",
      "3               IMC                 Cruise  Probable Cause       12-09-2000  \n",
      "4               VMC               Approach  Probable Cause       16-04-1980  \n",
      "\n",
      "[5 rows x 31 columns]\n"
     ]
    }
   ],
   "source": [
    "aviation_data = pd.read_csv('data/Aviation_Data.csv')\n",
    "\n",
    "print(aviation_data.head())"
   ]
  },
  {
   "cell_type": "code",
   "execution_count": 4,
   "metadata": {},
   "outputs": [
    {
     "name": "stdout",
     "output_type": "stream",
     "text": [
      "<class 'pandas.core.frame.DataFrame'>\n",
      "RangeIndex: 90348 entries, 0 to 90347\n",
      "Data columns (total 31 columns):\n",
      " #   Column                  Non-Null Count  Dtype  \n",
      "---  ------                  --------------  -----  \n",
      " 0   Event.Id                88889 non-null  object \n",
      " 1   Investigation.Type      90348 non-null  object \n",
      " 2   Accident.Number         88889 non-null  object \n",
      " 3   Event.Date              88889 non-null  object \n",
      " 4   Location                88837 non-null  object \n",
      " 5   Country                 88663 non-null  object \n",
      " 6   Latitude                34382 non-null  object \n",
      " 7   Longitude               34373 non-null  object \n",
      " 8   Airport.Code            50249 non-null  object \n",
      " 9   Airport.Name            52790 non-null  object \n",
      " 10  Injury.Severity         87889 non-null  object \n",
      " 11  Aircraft.damage         85695 non-null  object \n",
      " 12  Aircraft.Category       32287 non-null  object \n",
      " 13  Registration.Number     87572 non-null  object \n",
      " 14  Make                    88826 non-null  object \n",
      " 15  Model                   88797 non-null  object \n",
      " 16  Amateur.Built           88787 non-null  object \n",
      " 17  Number.of.Engines       82805 non-null  float64\n",
      " 18  Engine.Type             81812 non-null  object \n",
      " 19  FAR.Description         32023 non-null  object \n",
      " 20  Schedule                12582 non-null  object \n",
      " 21  Purpose.of.flight       82697 non-null  object \n",
      " 22  Air.carrier             16648 non-null  object \n",
      " 23  Total.Fatal.Injuries    77488 non-null  float64\n",
      " 24  Total.Serious.Injuries  76379 non-null  float64\n",
      " 25  Total.Minor.Injuries    76956 non-null  float64\n",
      " 26  Total.Uninjured         82977 non-null  float64\n",
      " 27  Weather.Condition       84397 non-null  object \n",
      " 28  Broad.phase.of.flight   61724 non-null  object \n",
      " 29  Report.Status           82508 non-null  object \n",
      " 30  Publication.Date        73659 non-null  object \n",
      "dtypes: float64(5), object(26)\n",
      "memory usage: 21.4+ MB\n",
      "None\n"
     ]
    }
   ],
   "source": [
    "print(aviation_data.info())"
   ]
  },
  {
   "cell_type": "code",
   "execution_count": 6,
   "metadata": {},
   "outputs": [
    {
     "name": "stdout",
     "output_type": "stream",
     "text": [
      "Schedule                  0.860738\n",
      "Air.carrier               0.815735\n",
      "FAR.Description           0.645559\n",
      "Aircraft.Category         0.642637\n",
      "Longitude                 0.619549\n",
      "Latitude                  0.619449\n",
      "Airport.Code              0.443828\n",
      "Airport.Name              0.415704\n",
      "Broad.phase.of.flight     0.316819\n",
      "Publication.Date          0.184719\n",
      "Total.Serious.Injuries    0.154613\n",
      "Total.Minor.Injuries      0.148227\n",
      "Total.Fatal.Injuries      0.142339\n",
      "Engine.Type               0.094479\n",
      "Report.Status             0.086776\n",
      "Purpose.of.flight         0.084684\n",
      "Number.of.Engines         0.083488\n",
      "Total.Uninjured           0.081585\n",
      "Weather.Condition         0.065868\n",
      "Aircraft.damage           0.051501\n",
      "Registration.Number       0.030726\n",
      "Injury.Severity           0.027217\n",
      "Country                   0.018650\n",
      "Amateur.Built             0.017278\n",
      "Model                     0.017167\n",
      "Make                      0.016846\n",
      "Location                  0.016724\n",
      "Event.Date                0.016149\n",
      "Accident.Number           0.016149\n",
      "Event.Id                  0.016149\n",
      "Investigation.Type        0.000000\n",
      "dtype: float64\n"
     ]
    }
   ],
   "source": [
    "missing_values = (aviation_data.isnull().sum() / len(aviation_data)) \n",
    "print(missing_values.sort_values(ascending=False))"
   ]
  },
  {
   "cell_type": "code",
   "execution_count": 7,
   "metadata": {},
   "outputs": [
    {
     "name": "stdout",
     "output_type": "stream",
     "text": [
      "Index(['Event.Id', 'Investigation.Type', 'Accident.Number', 'Event.Date',\n",
      "       'Location', 'Country', 'Latitude', 'Longitude', 'Airport.Code',\n",
      "       'Airport.Name', 'Injury.Severity', 'Aircraft.damage',\n",
      "       'Aircraft.Category', 'Registration.Number', 'Make', 'Model',\n",
      "       'Amateur.Built', 'Number.of.Engines', 'Engine.Type', 'FAR.Description',\n",
      "       'Schedule', 'Purpose.of.flight', 'Air.carrier', 'Total.Fatal.Injuries',\n",
      "       'Total.Serious.Injuries', 'Total.Minor.Injuries', 'Total.Uninjured',\n",
      "       'Weather.Condition', 'Broad.phase.of.flight', 'Report.Status',\n",
      "       'Publication.Date'],\n",
      "      dtype='object')\n"
     ]
    }
   ],
   "source": [
    "print(aviation_data.columns)"
   ]
  },
  {
   "cell_type": "code",
   "execution_count": 8,
   "metadata": {},
   "outputs": [
    {
     "name": "stdout",
     "output_type": "stream",
     "text": [
      "Event.Id                   1459\n",
      "Investigation.Type            0\n",
      "Accident.Number            1459\n",
      "Event.Date                 1459\n",
      "Location                   1511\n",
      "Country                    1685\n",
      "Latitude                  55966\n",
      "Longitude                 55975\n",
      "Airport.Code              40099\n",
      "Airport.Name              37558\n",
      "Injury.Severity            2459\n",
      "Aircraft.damage            4653\n",
      "Aircraft.Category         58061\n",
      "Registration.Number        2776\n",
      "Make                       1522\n",
      "Model                      1551\n",
      "Amateur.Built              1561\n",
      "Number.of.Engines          7543\n",
      "Engine.Type                8536\n",
      "FAR.Description           58325\n",
      "Schedule                  77766\n",
      "Purpose.of.flight          7651\n",
      "Air.carrier               73700\n",
      "Total.Fatal.Injuries      12860\n",
      "Total.Serious.Injuries    13969\n",
      "Total.Minor.Injuries      13392\n",
      "Total.Uninjured            7371\n",
      "Weather.Condition          5951\n",
      "Broad.phase.of.flight     28624\n",
      "Report.Status              7840\n",
      "Publication.Date          16689\n",
      "dtype: int64\n"
     ]
    }
   ],
   "source": [
    "print(aviation_data.isnull().sum())\n"
   ]
  },
  {
   "cell_type": "code",
   "execution_count": 12,
   "metadata": {},
   "outputs": [],
   "source": [
    "# categorical columns with the mode (most frequent value)\n",
    "aviation_data['Location'] = aviation_data['Location'].fillna(aviation_data['Location'].mode()[0])\n",
    "aviation_data['Country'] = aviation_data['Country'].fillna(aviation_data['Country'].mode()[0])\n",
    "aviation_data['Injury.Severity'] = aviation_data['Injury.Severity'].fillna(aviation_data['Injury.Severity'].mode()[0])\n",
    "aviation_data['Aircraft.damage'] = aviation_data['Aircraft.damage'].fillna(aviation_data['Aircraft.damage'].mode()[0])\n",
    "aviation_data['Make'] = aviation_data['Make'].fillna(aviation_data['Make'].mode()[0])\n",
    "aviation_data['Model'] = aviation_data['Model'].fillna(aviation_data['Model'].mode()[0])\n",
    "aviation_data['Amateur.Built'] = aviation_data['Amateur.Built'].fillna(aviation_data['Amateur.Built'].mode()[0])\n",
    "\n",
    "#  numeric columns with the median\n",
    "aviation_data['Total.Minor.Injuries'] = aviation_data['Total.Minor.Injuries'].fillna(aviation_data['Total.Minor.Injuries'].median())\n",
    "aviation_data['Total.Uninjured'] = aviation_data['Total.Uninjured'].fillna(aviation_data['Total.Uninjured'].median())"
   ]
  },
  {
   "cell_type": "code",
   "execution_count": 13,
   "metadata": {},
   "outputs": [
    {
     "name": "stdout",
     "output_type": "stream",
     "text": [
      "Event.Id                   1459\n",
      "Investigation.Type            0\n",
      "Accident.Number            1459\n",
      "Event.Date                 1459\n",
      "Location                      0\n",
      "Country                       0\n",
      "Latitude                  55966\n",
      "Longitude                 55975\n",
      "Airport.Code              40099\n",
      "Airport.Name              37558\n",
      "Injury.Severity               0\n",
      "Aircraft.damage               0\n",
      "Aircraft.Category         58061\n",
      "Registration.Number        2776\n",
      "Make                          0\n",
      "Model                         0\n",
      "Amateur.Built                 0\n",
      "FAR.Description           58325\n",
      "Schedule                  77766\n",
      "Air.carrier               73700\n",
      "Total.Fatal.Injuries      12860\n",
      "Total.Serious.Injuries    13969\n",
      "Total.Minor.Injuries          0\n",
      "Total.Uninjured               0\n",
      "Weather.Condition          5951\n",
      "Broad.phase.of.flight     28624\n",
      "Report.Status              7840\n",
      "Publication.Date          16689\n",
      "dtype: int64\n"
     ]
    }
   ],
   "source": [
    "print(aviation_data.isnull().sum())"
   ]
  },
  {
   "cell_type": "code",
   "execution_count": 18,
   "metadata": {},
   "outputs": [
    {
     "ename": "SyntaxError",
     "evalue": "positional argument follows keyword argument (<ipython-input-18-69c860e5953d>, line 1)",
     "output_type": "error",
     "traceback": [
      "\u001b[1;36m  File \u001b[1;32m\"<ipython-input-18-69c860e5953d>\"\u001b[1;36m, line \u001b[1;32m1\u001b[0m\n\u001b[1;33m    aviation_data = aviation_data.dropna(subset=['Event.Date'],['Latitude'],['Longitude'],['Airport.Code'],['Airport.Name'] ,['Aircraft.Category'],['Registration.Number'],['FAR.Description'],['Schedule'],['Air.Carrier'] ,['Total.Fatal.Injuries'],['Total.Serious.Injuries'],['Weather.Condition'],['Broad.phase.of.flight'],['Report.Status'],['Publication.Date'])\u001b[0m\n\u001b[1;37m                                                               ^\u001b[0m\n\u001b[1;31mSyntaxError\u001b[0m\u001b[1;31m:\u001b[0m positional argument follows keyword argument\n"
     ]
    }
   ],
   "source": [
    "aviation_data = aviation_data.dropna(subset=['Event.Date'],['Latitude'],['Longitude'],['Airport.Code'],['Airport.Name'] ,['Aircraft.Category'],['Registration.Number'],['FAR.Description'],['Schedule'],['Air.Carrier'] ,['Total.Fatal.Injuries'],['Total.Serious.Injuries'],['Weather.Condition'],['Broad.phase.of.flight'],['Report.Status'],['Publication.Date'])\n",
    "print(aviation_data.isnull().sum())"
   ]
  },
  {
   "cell_type": "code",
   "execution_count": 21,
   "metadata": {},
   "outputs": [],
   "source": [
    "aviation_data = aviation_data.dropna(subset=[\n",
    "    'Event.Date', 'Latitude', 'Longitude', 'Airport.Code', 'Airport.Name',\n",
    "    'Aircraft.Category', 'Registration.Number', 'FAR.Description', 'Schedule',\n",
    "    'Air.carrier', 'Total.Fatal.Injuries', 'Total.Serious.Injuries',\n",
    "    'Weather.Condition', 'Broad.phase.of.flight', 'Report.Status', 'Publication.Date'\n",
    "])\n"
   ]
  },
  {
   "cell_type": "code",
   "execution_count": 22,
   "metadata": {},
   "outputs": [
    {
     "name": "stdout",
     "output_type": "stream",
     "text": [
      "Event.Id                  0\n",
      "Investigation.Type        0\n",
      "Accident.Number           0\n",
      "Event.Date                0\n",
      "Location                  0\n",
      "Country                   0\n",
      "Latitude                  0\n",
      "Longitude                 0\n",
      "Airport.Code              0\n",
      "Airport.Name              0\n",
      "Injury.Severity           0\n",
      "Aircraft.damage           0\n",
      "Aircraft.Category         0\n",
      "Registration.Number       0\n",
      "Make                      0\n",
      "Model                     0\n",
      "Amateur.Built             0\n",
      "FAR.Description           0\n",
      "Schedule                  0\n",
      "Air.carrier               0\n",
      "Total.Fatal.Injuries      0\n",
      "Total.Serious.Injuries    0\n",
      "Total.Minor.Injuries      0\n",
      "Total.Uninjured           0\n",
      "Weather.Condition         0\n",
      "Broad.phase.of.flight     0\n",
      "Report.Status             0\n",
      "Publication.Date          0\n",
      "dtype: int64\n"
     ]
    }
   ],
   "source": [
    "print(aviation_data.isnull().sum())"
   ]
  },
  {
   "cell_type": "markdown",
   "metadata": {},
   "source": [
    "AFTER CLEANING ALL THE MISSING DATA, I ANALYZE THE DATA"
   ]
  },
  {
   "cell_type": "markdown",
   "metadata": {},
   "source": [
    "What are the most significant factors contributing to aviation accidents in our target region?\n",
    "i'll consider factors like; environment factors i.e weather.conditions, Latitude and Longitude ,Event.Date \n",
    "                            aircraft characteristics i.e Aircraft.category, Registration.Number, \n",
    "                            Human factors i.e Broad.Phase.of.light, Report.status, Total.Fatal.Injuries, Total.Serious.Injuries"
   ]
  },
  {
   "cell_type": "code",
   "execution_count": null,
   "metadata": {},
   "outputs": [],
   "source": []
  }
 ],
 "metadata": {
  "kernelspec": {
   "display_name": "Python (learn-env)",
   "language": "python",
   "name": "learn-env"
  },
  "language_info": {
   "codemirror_mode": {
    "name": "ipython",
    "version": 3
   },
   "file_extension": ".py",
   "mimetype": "text/x-python",
   "name": "python",
   "nbconvert_exporter": "python",
   "pygments_lexer": "ipython3",
   "version": "3.8.5"
  }
 },
 "nbformat": 4,
 "nbformat_minor": 4
}
